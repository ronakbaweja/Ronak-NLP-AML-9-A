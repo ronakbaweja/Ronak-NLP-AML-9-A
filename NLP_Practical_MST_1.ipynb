{
  "nbformat": 4,
  "nbformat_minor": 0,
  "metadata": {
    "colab": {
      "provenance": []
    },
    "kernelspec": {
      "name": "python3",
      "display_name": "Python 3"
    },
    "language_info": {
      "name": "python"
    }
  },
  "cells": [
    {
      "cell_type": "code",
      "execution_count": 8,
      "metadata": {
        "id": "JJT5Ki7GqRNl"
      },
      "outputs": [],
      "source": [
        "story = \"\"\"Amara, a wisp of a girl with wind-tousled brown hair, stood precariously on the crumbling city wall. Below, the Blight sprawled – a tangle of twisted trees and sickly yellow fog that choked the land beyond the city limits. It was said that once, vibrant forests thrived there, but now, thanks to the Blight's touch, only grotesque creatures called Blightstalkers roamed.\n",
        "Amara wasn't scared, not exactly. Fear gnawed at her, but it was dwarfed by a burning need. Her younger brother, Finn, had vanished two days ago, lured by whispers of a hidden oasis within the Blight.\n",
        "She gripped the hilt of her fathers' shortsword, a weapon that felt impossibly heavy for her twelve-year-old arms. She wasn't a warrior, just a tinker's daughter. But the city guard, hardened men afraid of their own shadows, refused to venture into the Blight.\n",
        "As dusk settled, casting long, grotesque shadows, Amara took a deep breath and jumped.\n",
        "She landed hard, the damp earth muffling the sound. The air hung heavy, tinged with a sickly sweetness. A low growl broke the silence. A Blightstalker, its fur matted and eyes glowing red, emerged from the fog.\n",
        "Adrenaline surged through Amara. Her father's lessons on swordplay flashed in her mind. Dodging the creature's clumsy swipe, she lunged forward, her blade connecting with its shoulder. The creature shrieked a high-pitched sound and retreated into the mist.\n",
        "Exhaustion threatened to overwhelm her, but she pushed forward, following an almost imperceptible trail Finn had left - a broken twig here, a scuffed boot print there.\n",
        "Days blurred into one another. Hunger gnawed at her stomach, and sleep became a luxury she couldn't afford. But hope, fueled by the occasional scrap of Finn's clothing, kept her going.\n",
        "Then, she found it. An oasis, a jewel of green amidst the desolation. But guarding it were three hulking figures clad in black, their leader a tall woman with a cruel smile.\n",
        "\"There you are, little one,\" the woman sneered. \"We've been expecting you.\"\n",
        "They were Blight Harvesters, scavengers who preyed on the unfortunate. Amara knew they were likely holding Finn captive. Panic clawed at her throat, but she remembered a hidden compartment in her father's tool belt, one containing a blinding flash powder. This was her only chance.\n",
        "She lunged forward, throwing the powder at the Harvesters. The air filled with a brilliant light, momentarily disorienting them. It wasn't enough to overpower them, but it was enough.\n",
        "A voice, weak but familiar, called out from behind one of the figures. \"Amara!\"\n",
        "There, bound and gagged, stood Finn.\n",
        "With a surge of renewed strength, Amara attacked. This time, the fight was different. She fought for Finn, fuelled by a fierce love that overshadowed fear.\n",
        "A twig snapped behind them. A figure emerged from the trees, tall and cloaked in green. It was Elara, a reclusive herbalist known for flitting in and out of the city like a phantom.\n",
        "\"Need a hand, little spark?\" Elara said, her voice surprisingly young.\n",
        "With Elara's help, Amara turned the tide. The Harvesters, disoriented by the flash powder and overwhelmed by the unexpected attack, were quickly subdued. Elara untied Finn, who rushed into Amara's arms, tears streaming down his face.\n",
        "News of their exploits reached the city. The previously reluctant guards, emboldened by Amara's feat, launched a coordinated attack on a Blightstalker nest. The oasis was secured, and a path to reclaiming the lost land began to open.\n",
        "Amara became a symbol of hope. Not a trained warrior, but a girl who faced her fears, armed with nothing but love and ingenuity. As the city began to rebuild, stories of the \"Spark of the Blight\" echoed through the streets, a testament to the extraordinary courage that can reside in even the most unlikely of heroes.\n",
        "\"\"\""
      ]
    },
    {
      "cell_type": "code",
      "source": [
        "print(len(story.split()))"
      ],
      "metadata": {
        "colab": {
          "base_uri": "https://localhost:8080/"
        },
        "id": "VA5yuzTwq4qU",
        "outputId": "1d362f37-006f-40cc-e2ad-87ed4185dcd2"
      },
      "execution_count": 9,
      "outputs": [
        {
          "output_type": "stream",
          "name": "stdout",
          "text": [
            "627\n"
          ]
        }
      ]
    },
    {
      "cell_type": "code",
      "source": [
        "import nltk\n",
        "from nltk import FreqDist\n",
        "\n",
        "nltk.download('punkt')\n",
        "nltk.download('averaged_perceptron_tagger')\n",
        "nltk.download('maxent_ne_chunker')\n",
        "nltk.download('words')"
      ],
      "metadata": {
        "colab": {
          "base_uri": "https://localhost:8080/"
        },
        "id": "6ee85_8VwtYP",
        "outputId": "45f6b506-ca3e-4363-f616-3382c5cf18df"
      },
      "execution_count": 10,
      "outputs": [
        {
          "output_type": "stream",
          "name": "stderr",
          "text": [
            "[nltk_data] Downloading package punkt to /root/nltk_data...\n",
            "[nltk_data]   Package punkt is already up-to-date!\n",
            "[nltk_data] Downloading package averaged_perceptron_tagger to\n",
            "[nltk_data]     /root/nltk_data...\n",
            "[nltk_data]   Package averaged_perceptron_tagger is already up-to-\n",
            "[nltk_data]       date!\n",
            "[nltk_data] Downloading package maxent_ne_chunker to\n",
            "[nltk_data]     /root/nltk_data...\n",
            "[nltk_data]   Package maxent_ne_chunker is already up-to-date!\n",
            "[nltk_data] Downloading package words to /root/nltk_data...\n",
            "[nltk_data]   Package words is already up-to-date!\n"
          ]
        },
        {
          "output_type": "execute_result",
          "data": {
            "text/plain": [
              "True"
            ]
          },
          "metadata": {},
          "execution_count": 10
        }
      ]
    },
    {
      "cell_type": "code",
      "source": [
        "sentences = nltk.sent_tokenize(story)\n",
        "characters = []\n",
        "for sent in sentences:\n",
        "    for chunk in nltk.ne_chunk(nltk.pos_tag(nltk.word_tokenize(sent))):\n",
        "        if hasattr(chunk, 'label') and chunk.label() == 'PERSON':\n",
        "            characters.extend(c[0] for c in chunk)\n",
        "print(f\"Characters: {characters}\")"
      ],
      "metadata": {
        "colab": {
          "base_uri": "https://localhost:8080/"
        },
        "id": "pmXNvpOLwtVH",
        "outputId": "07b7c0de-1dfe-4f7e-b8cf-9ca02e05f323"
      },
      "execution_count": 11,
      "outputs": [
        {
          "output_type": "stream",
          "name": "stdout",
          "text": [
            "Characters: ['Amara', 'Fear', 'Finn', 'Amara', 'Adrenaline', 'Exhaustion', 'Finn', 'Blight', 'Harvesters', 'Amara', 'Finn', 'Amara', 'Finn', 'Amara', 'Elara', 'Elara', 'Elara', 'Amara', 'Amara', 'Amara', 'Amara']\n"
          ]
        }
      ]
    },
    {
      "cell_type": "code",
      "source": [
        "character_freq = FreqDist(characters)\n",
        "main_character = character_freq.most_common(1)[0][0]"
      ],
      "metadata": {
        "colab": {
          "base_uri": "https://localhost:8080/"
        },
        "id": "TQ2ZODHywtOg",
        "outputId": "9132bfbb-24b7-4ec8-8f8a-654c30d31535"
      },
      "execution_count": 12,
      "outputs": [
        {
          "output_type": "stream",
          "name": "stdout",
          "text": [
            "Character Frequency: <FreqDist with 8 samples and 21 outcomes>\n"
          ]
        }
      ]
    },
    {
      "cell_type": "code",
      "source": [
        "print(f\"Main character: {main_character}\")"
      ],
      "metadata": {
        "colab": {
          "base_uri": "https://localhost:8080/"
        },
        "id": "MxPCeCFHw2zZ",
        "outputId": "f10dcb7f-d836-4b8a-d464-12ee41153cb7"
      },
      "execution_count": 13,
      "outputs": [
        {
          "output_type": "stream",
          "name": "stdout",
          "text": [
            "Main character: Amara\n"
          ]
        }
      ]
    }
  ]
}