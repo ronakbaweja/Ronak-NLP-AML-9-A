{
  "nbformat": 4,
  "nbformat_minor": 0,
  "metadata": {
    "colab": {
      "provenance": []
    },
    "kernelspec": {
      "name": "python3",
      "display_name": "Python 3"
    },
    "language_info": {
      "name": "python"
    }
  },
  "cells": [
    {
      "cell_type": "code",
      "execution_count": 2,
      "metadata": {
        "colab": {
          "base_uri": "https://localhost:8080/"
        },
        "id": "PIF0NiV5j9BQ",
        "outputId": "73d0b42e-6b5e-4d14-c4f8-34434c844495"
      },
      "outputs": [
        {
          "output_type": "stream",
          "name": "stdout",
          "text": [
            "Original sentence: This is a sentence with some stop words.\n",
            "Filtered sentence: This sentence words.\n"
          ]
        },
        {
          "output_type": "stream",
          "name": "stderr",
          "text": [
            "[nltk_data] Downloading package stopwords to /root/nltk_data...\n",
            "[nltk_data]   Package stopwords is already up-to-date!\n"
          ]
        }
      ],
      "source": [
        "import nltk\n",
        "from nltk.corpus import stopwords\n",
        "\n",
        "# Download the stopwords list\n",
        "nltk.download('stopwords')\n",
        "\n",
        "# Create a list of stop words\n",
        "stop_words = stopwords.words('english')\n",
        "\n",
        "# Add any additional stop words you want\n",
        "stop_words.extend(['your', 'additional', 'stop', 'words'])\n",
        "\n",
        "# Create a function to remove stop words from a sentence\n",
        "def remove_stop_words(sentence):\n",
        "\n",
        "  # Split the sentence into words\n",
        "  words = sentence.split()\n",
        "\n",
        "  # Filter out the stop words\n",
        "  filtered_words = [word for word in words if word not in stop_words]\n",
        "\n",
        "  # Join the filtered words back into a sentence\n",
        "  return ' '.join(filtered_words)\n",
        "\n",
        "# Example usage\n",
        "sentence = \"This is a sentence with some stop words.\"\n",
        "\n",
        "# Remove stop words from the sentence\n",
        "filtered_sentence = remove_stop_words(sentence)\n",
        "\n",
        "# Print the original and filtered sentences\n",
        "print(\"Original sentence:\", sentence)\n",
        "print(\"Filtered sentence:\", filtered_sentence)"
      ]
    }
  ]
}