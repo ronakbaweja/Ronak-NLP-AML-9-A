{
  "nbformat": 4,
  "nbformat_minor": 0,
  "metadata": {
    "colab": {
      "provenance": []
    },
    "kernelspec": {
      "name": "python3",
      "display_name": "Python 3"
    },
    "language_info": {
      "name": "python"
    }
  },
  "cells": [
    {
      "cell_type": "code",
      "source": [
        "from nltk.stem import PorterStemmer\n",
        "from nltk.stem import LancasterStemmer\n",
        "from nltk.stem import SnowballStemmer\n",
        "\n",
        "from nltk.corpus import stopwords\n",
        "from nltk.tokenize import word_tokenize\n",
        "import nltk\n",
        "\n",
        "nltk.download('punkt')\n",
        "\n",
        "# Sample sentence\n",
        "sentence = \"This is a sample sentence to demonstrate different stemming methods. The researchers published a paper about analyzing sentiment in tweets. The students are studying in the library.\"\n",
        "\n",
        "# Tokenizing the sentence\n",
        "words = word_tokenize(sentence)"
      ],
      "metadata": {
        "colab": {
          "base_uri": "https://localhost:8080/"
        },
        "id": "H2QHSs-hgXRN",
        "outputId": "b3a39c6b-5a85-433e-be76-0fc7d4d182c6"
      },
      "execution_count": 2,
      "outputs": [
        {
          "output_type": "stream",
          "name": "stderr",
          "text": [
            "[nltk_data] Downloading package punkt to /root/nltk_data...\n",
            "[nltk_data]   Package punkt is already up-to-date!\n"
          ]
        }
      ]
    },
    {
      "cell_type": "code",
      "source": [
        "# Stemming using Porter Stemmer\n",
        "porter_stemmer = PorterStemmer()\n",
        "porter_stemmed_words = [porter_stemmer.stem(word) for word in words]\n",
        "# Printing the results\n",
        "print(\"Original Sentence:\", sentence)\n",
        "print(\"Porter Stemmed Words:\", porter_stemmed_words)"
      ],
      "metadata": {
        "colab": {
          "base_uri": "https://localhost:8080/"
        },
        "id": "ex2plj5YfWw8",
        "outputId": "e0a65077-ddf7-4dfd-bacb-f0b88ab9a7b2"
      },
      "execution_count": 3,
      "outputs": [
        {
          "output_type": "stream",
          "name": "stdout",
          "text": [
            "Original Sentence: This is a sample sentence to demonstrate different stemming methods. The researchers published a paper about analyzing sentiment in tweets. The students are studying in the library.\n",
            "Porter Stemmed Words: ['thi', 'is', 'a', 'sampl', 'sentenc', 'to', 'demonstr', 'differ', 'stem', 'method', '.', 'the', 'research', 'publish', 'a', 'paper', 'about', 'analyz', 'sentiment', 'in', 'tweet', '.', 'the', 'student', 'are', 'studi', 'in', 'the', 'librari', '.']\n"
          ]
        }
      ]
    },
    {
      "cell_type": "code",
      "source": [
        "# Stemming using Lancaster Stemmer\n",
        "lancaster_stemmer = LancasterStemmer()\n",
        "lancaster_stemmed_words = [lancaster_stemmer.stem(word) for word in words]\n",
        "# Printing the results\n",
        "print(\"Original Sentence:\", sentence)\n",
        "print(\"Lancaster Stemmed Words:\", lancaster_stemmed_words)"
      ],
      "metadata": {
        "colab": {
          "base_uri": "https://localhost:8080/"
        },
        "id": "9awLYjmJfWt8",
        "outputId": "34cd86b4-84a1-4e08-c567-99744f2ce331"
      },
      "execution_count": 4,
      "outputs": [
        {
          "output_type": "stream",
          "name": "stdout",
          "text": [
            "Original Sentence: This is a sample sentence to demonstrate different stemming methods. The researchers published a paper about analyzing sentiment in tweets. The students are studying in the library.\n",
            "Lancaster Stemmed Words: ['thi', 'is', 'a', 'sampl', 'sent', 'to', 'demonst', 'diff', 'stem', 'method', '.', 'the', 'research', 'publ', 'a', 'pap', 'about', 'analys', 'senty', 'in', 'tweet', '.', 'the', 'stud', 'ar', 'study', 'in', 'the', 'libr', '.']\n"
          ]
        }
      ]
    },
    {
      "cell_type": "code",
      "source": [
        "# Stemming using Snowball Stemmer\n",
        "snowball_stemmer = SnowballStemmer('english')\n",
        "snowball_stemmed_words = [snowball_stemmer.stem(word) for word in words]\n",
        "# Printing the results\n",
        "print(\"Original Sentence:\", sentence)\n",
        "print(\"Snowball Stemmed Words:\", snowball_stemmed_words)"
      ],
      "metadata": {
        "colab": {
          "base_uri": "https://localhost:8080/"
        },
        "id": "A_p5GDVcfWqk",
        "outputId": "c629a62d-1871-47c9-e4b7-c2ec83ed5627"
      },
      "execution_count": 5,
      "outputs": [
        {
          "output_type": "stream",
          "name": "stdout",
          "text": [
            "Original Sentence: This is a sample sentence to demonstrate different stemming methods. The researchers published a paper about analyzing sentiment in tweets. The students are studying in the library.\n",
            "Snowball Stemmed Words: ['this', 'is', 'a', 'sampl', 'sentenc', 'to', 'demonstr', 'differ', 'stem', 'method', '.', 'the', 'research', 'publish', 'a', 'paper', 'about', 'analyz', 'sentiment', 'in', 'tweet', '.', 'the', 'student', 'are', 'studi', 'in', 'the', 'librari', '.']\n"
          ]
        }
      ]
    },
    {
      "cell_type": "code",
      "source": [],
      "metadata": {
        "id": "K8L7Qzwajf3x"
      },
      "execution_count": 5,
      "outputs": []
    }
  ]
}