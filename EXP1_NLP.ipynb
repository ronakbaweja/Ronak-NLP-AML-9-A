{
  "nbformat": 4,
  "nbformat_minor": 0,
  "metadata": {
    "colab": {
      "provenance": []
    },
    "kernelspec": {
      "name": "python3",
      "display_name": "Python 3"
    },
    "language_info": {
      "name": "python"
    }
  },
  "cells": [
    {
      "cell_type": "code",
      "execution_count": 2,
      "metadata": {
        "colab": {
          "base_uri": "https://localhost:8080/"
        },
        "id": "S7pQH-9gePhr",
        "outputId": "e7c802c1-4b4c-44bf-cb30-98150615f6d6"
      },
      "outputs": [
        {
          "output_type": "stream",
          "name": "stdout",
          "text": [
            "Requirement already satisfied: nltk in /usr/local/lib/python3.10/dist-packages (3.8.1)\n",
            "Requirement already satisfied: click in /usr/local/lib/python3.10/dist-packages (from nltk) (8.1.7)\n",
            "Requirement already satisfied: joblib in /usr/local/lib/python3.10/dist-packages (from nltk) (1.3.2)\n",
            "Requirement already satisfied: regex>=2021.8.3 in /usr/local/lib/python3.10/dist-packages (from nltk) (2023.12.25)\n",
            "Requirement already satisfied: tqdm in /usr/local/lib/python3.10/dist-packages (from nltk) (4.66.1)\n"
          ]
        },
        {
          "output_type": "stream",
          "name": "stderr",
          "text": [
            "[nltk_data] Downloading package punkt to /root/nltk_data...\n",
            "[nltk_data]   Unzipping tokenizers/punkt.zip.\n"
          ]
        },
        {
          "output_type": "stream",
          "name": "stdout",
          "text": [
            "['He', 'will', 'save', 'and', 'invest', 'for', 'his', 'retirement']\n"
          ]
        }
      ],
      "source": [
        "# Install the nltk module\n",
        "!pip install nltk\n",
        "\n",
        "# Download the punkt package\n",
        "import nltk\n",
        "nltk.download('punkt')\n",
        "\n",
        "# Tokenize the text\n",
        "from nltk import word_tokenize\n",
        "\n",
        "x = \"He will save and invest for his retirement\"\n",
        "tokens = word_tokenize(x)\n",
        "\n",
        "# Print the tokens\n",
        "print(tokens)"
      ]
    },
    {
      "cell_type": "code",
      "source": [
        "from nltk.tokenize import WordPunctTokenizer\n",
        "\n",
        "WordPunctTokenizer().tokenize(x)"
      ],
      "metadata": {
        "colab": {
          "base_uri": "https://localhost:8080/"
        },
        "id": "82wxnPEAfIwD",
        "outputId": "3d8c5206-d6f4-4bb8-9d01-6541b61c8b78"
      },
      "execution_count": 3,
      "outputs": [
        {
          "output_type": "execute_result",
          "data": {
            "text/plain": [
              "['He', 'will', 'save', 'and', 'invest', 'for', 'his', 'retirement']"
            ]
          },
          "metadata": {},
          "execution_count": 3
        }
      ]
    },
    {
      "cell_type": "code",
      "source": [
        "from nltk.tokenize import RegexpTokenizer\n",
        "\n",
        "tokenizer= RegexpTokenizer(\"[\\w]+\")\n",
        "tokenizer.tokenize(x)"
      ],
      "metadata": {
        "colab": {
          "base_uri": "https://localhost:8080/"
        },
        "id": "dVTvbLGGgLob",
        "outputId": "1f7bdb7a-5689-406f-eda4-baad10069886"
      },
      "execution_count": 4,
      "outputs": [
        {
          "output_type": "execute_result",
          "data": {
            "text/plain": [
              "['He', 'will', 'save', 'and', 'invest', 'for', 'his', 'retirement']"
            ]
          },
          "metadata": {},
          "execution_count": 4
        }
      ]
    },
    {
      "cell_type": "code",
      "source": [
        "from nltk.tokenize import sent_tokenize\n",
        "text=\"NLTK is a leading platform for building Python Programs with human language data. It provides easy-to-use int\"\n",
        "\n",
        "sentences = sent_tokenize(text)\n",
        "print(text)"
      ],
      "metadata": {
        "colab": {
          "base_uri": "https://localhost:8080/"
        },
        "id": "EfHu31GKhAH5",
        "outputId": "5c064b0e-2ac3-4b86-ddea-743c561c97e8"
      },
      "execution_count": 15,
      "outputs": [
        {
          "output_type": "stream",
          "name": "stdout",
          "text": [
            "NLTK is a leading platform for building Python Programs with human language data. It provides easy-to-use int\n"
          ]
        }
      ]
    },
    {
      "cell_type": "code",
      "source": [
        "word_tokenize(text)"
      ],
      "metadata": {
        "colab": {
          "base_uri": "https://localhost:8080/"
        },
        "id": "HzpnMM_Dh81o",
        "outputId": "adce7789-726b-49f9-dbd4-bb1ac16aca9f"
      },
      "execution_count": 9,
      "outputs": [
        {
          "output_type": "execute_result",
          "data": {
            "text/plain": [
              "['NLTK',\n",
              " 'is',\n",
              " 'a',\n",
              " 'leading',\n",
              " 'platform',\n",
              " 'for',\n",
              " 'building',\n",
              " 'Python',\n",
              " 'Programs',\n",
              " 'with',\n",
              " 'human',\n",
              " 'language',\n",
              " 'data',\n",
              " '.',\n",
              " 'It',\n",
              " 'provides',\n",
              " 'easy-to-use',\n",
              " 'int']"
            ]
          },
          "metadata": {},
          "execution_count": 9
        }
      ]
    },
    {
      "cell_type": "code",
      "source": [
        "# Create a string\n",
        "string = \"hello world\"\n",
        "\n",
        "# Split the string into a list using the space character as the delimiter\n",
        "list_of_words = string.split(\" \")\n",
        "\n",
        "# Print the list of words\n",
        "print(list_of_words)"
      ],
      "metadata": {
        "id": "ruUBOuOedBfj",
        "outputId": "79c5ee31-909b-4049-e3ed-de7fd913da9f",
        "colab": {
          "base_uri": "https://localhost:8080/"
        }
      },
      "execution_count": 11,
      "outputs": [
        {
          "output_type": "stream",
          "name": "stdout",
          "text": [
            "['hello', 'world']\n"
          ]
        }
      ]
    }
  ]
}